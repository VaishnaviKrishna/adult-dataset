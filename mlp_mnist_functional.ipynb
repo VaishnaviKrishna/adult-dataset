{
  "nbformat": 4,
  "nbformat_minor": 0,
  "metadata": {
    "colab": {
      "name": "mlp_mnist_functional.ipynb",
      "version": "0.3.2",
      "provenance": [],
      "include_colab_link": true
    },
    "kernelspec": {
      "name": "python3",
      "display_name": "Python 3"
    }
  },
  "cells": [
    {
      "cell_type": "markdown",
      "metadata": {
        "id": "view-in-github",
        "colab_type": "text"
      },
      "source": [
        "<a href=\"https://colab.research.google.com/github/VaishnaviKrishna/Vaish/blob/master/mlp_mnist_functional.ipynb\" target=\"_parent\"><img src=\"https://colab.research.google.com/assets/colab-badge.svg\" alt=\"Open In Colab\"/></a>"
      ]
    },
    {
      "metadata": {
        "id": "zSI1iZESxfUa",
        "colab_type": "code",
        "outputId": "8227ee99-628f-4bfd-c876-43aa9426ad1d",
        "colab": {
          "base_uri": "https://localhost:8080/",
          "height": 34
        }
      },
      "cell_type": "code",
      "source": [
        "from keras.datasets import mnist\n",
        "from keras.models import Sequential, load_model\n",
        "from keras.layers.core import Dense, Dropout, Activation\n",
        "from keras.utils import np_utils"
      ],
      "execution_count": 0,
      "outputs": [
        {
          "output_type": "stream",
          "text": [
            "Using TensorFlow backend.\n"
          ],
          "name": "stderr"
        }
      ]
    },
    {
      "metadata": {
        "id": "qYpBh_d_yC4R",
        "colab_type": "code",
        "colab": {}
      },
      "cell_type": "code",
      "source": [
        "import numpy as np\n",
        "import matplotlib.pyplot as plt\n",
        "from sklearn import metrics"
      ],
      "execution_count": 0,
      "outputs": []
    },
    {
      "metadata": {
        "id": "6iaDVIrYyHn4",
        "colab_type": "code",
        "outputId": "26d6de22-fc38-4e3e-a473-d1ecb6dd8199",
        "colab": {
          "base_uri": "https://localhost:8080/",
          "height": 51
        }
      },
      "cell_type": "code",
      "source": [
        "(X_train, y_train), (X_test, y_test) = mnist.load_data()"
      ],
      "execution_count": 0,
      "outputs": [
        {
          "output_type": "stream",
          "text": [
            "Downloading data from https://s3.amazonaws.com/img-datasets/mnist.npz\n",
            "11493376/11490434 [==============================] - 1s 0us/step\n"
          ],
          "name": "stdout"
        }
      ]
    },
    {
      "metadata": {
        "id": "SfrkrGycyK-3",
        "colab_type": "code",
        "outputId": "9f85090c-e9ba-42e5-af1e-c8360247abdc",
        "colab": {
          "base_uri": "https://localhost:8080/",
          "height": 362
        }
      },
      "cell_type": "code",
      "source": [
        "train_images_and_labels=list(zip(X_train,y_train))\n",
        "for index, (images,labels) in enumerate (train_images_and_labels[0:4]):\n",
        "    plt.subplot(2,2,index+1)\n",
        "    plt.axis('off')\n",
        "    plt.imshow(images, cmap='gray')\n",
        "    plt.title('Training: %i' %labels)"
      ],
      "execution_count": 0,
      "outputs": [
        {
          "output_type": "display_data",
          "data": {
            "image/png": "[encoded data removed]",
            "text/plain": [
              "<Figure size 576x396 with 4 Axes>"
            ]
          },
          "metadata": {
            "tags": []
          }
        }
      ]
    },
    {
      "metadata": {
        "id": "NFDTwLQYyYXp",
        "colab_type": "code",
        "colab": {}
      },
      "cell_type": "code",
      "source": [
        "#To use the trained dataset in the neural network we need to reshape it to 28*28=784 input neurons!\n",
        "X_train_reshaped=X_train.reshape(60000,784)\n",
        "X_test_reshaped=X_test.reshape(10000,784)\n",
        "X_train_reshaped = X_train_reshaped.astype('float32')\n",
        "X_test_reshaped = X_test_reshaped.astype('float32')\n",
        "X_train_reshaped /= 255\n",
        "X_test_reshaped /= 255"
      ],
      "execution_count": 0,
      "outputs": []
    },
    {
      "metadata": {
        "id": "iI82gcQmyZjc",
        "colab_type": "code",
        "outputId": "0d2cd8de-9cee-400c-d2b5-ed1cdd58f012",
        "colab": {
          "base_uri": "https://localhost:8080/",
          "height": 34
        }
      },
      "cell_type": "code",
      "source": [
        "y_new_train=[]\n",
        "for i in y_train:\n",
        "    if i==0:\n",
        "        y_new_train.append(0);\n",
        "    else:\n",
        "        y_new_train.append(1);\n",
        "print(y_new_train[0:10])"
      ],
      "execution_count": 0,
      "outputs": [
        {
          "output_type": "stream",
          "text": [
            "[1, 0, 1, 1, 1, 1, 1, 1, 1, 1]\n"
          ],
          "name": "stdout"
        }
      ]
    },
    {
      "metadata": {
        "id": "7qIYl2F_ycWi",
        "colab_type": "code",
        "outputId": "ce898d23-c8da-44af-ba3d-2b7b296ac290",
        "colab": {
          "base_uri": "https://localhost:8080/",
          "height": 34
        }
      },
      "cell_type": "code",
      "source": [
        "y_new_test=[]\n",
        "for i in y_test:\n",
        "    if i==0:\n",
        "        y_new_test.append(0);\n",
        "    else:\n",
        "        y_new_test.append(1);\n",
        "print(y_new_test[0:10])"
      ],
      "execution_count": 0,
      "outputs": [
        {
          "output_type": "stream",
          "text": [
            "[1, 1, 1, 0, 1, 1, 1, 1, 1, 1]\n"
          ],
          "name": "stdout"
        }
      ]
    },
    {
      "metadata": {
        "id": "S7PcP_R4yfxF",
        "colab_type": "code",
        "outputId": "fd2e9ce8-05e5-4d78-dbb6-7014910d262c",
        "colab": {
          "base_uri": "https://localhost:8080/",
          "height": 238
        }
      },
      "cell_type": "code",
      "source": [
        "# one-hot encoding using keras' numpy-related utilities\n",
        "n_classes = 2   #binary classification\n",
        "print(\"Shape before one-hot encoding: \", y_train.shape)\n",
        "Y_train = np_utils.to_categorical(y_new_train, n_classes)\n",
        "Y_test = np_utils.to_categorical(y_new_test, n_classes)\n",
        "print(\"Shape after one-hot encoding: \", Y_train.shape)\n",
        "print(Y_train[0:10])\n",
        "print(Y_test.shape)"
      ],
      "execution_count": 0,
      "outputs": [
        {
          "output_type": "stream",
          "text": [
            "Shape before one-hot encoding:  (60000,)\n",
            "Shape after one-hot encoding:  (60000, 2)\n",
            "[[0. 1.]\n",
            " [1. 0.]\n",
            " [0. 1.]\n",
            " [0. 1.]\n",
            " [0. 1.]\n",
            " [0. 1.]\n",
            " [0. 1.]\n",
            " [0. 1.]\n",
            " [0. 1.]\n",
            " [0. 1.]]\n",
            "(10000, 2)\n"
          ],
          "name": "stdout"
        }
      ]
    },
    {
      "metadata": {
        "id": "gYsolfzqyiU6",
        "colab_type": "code",
        "colab": {}
      },
      "cell_type": "code",
      "source": [
        "# building a linear stack of layers with the sequential model\n",
        "seqmodel = Sequential()\n",
        "seqmodel.add(Dense(512, input_shape=(784,)))    #First hidden layer with 512 neurons\n",
        "seqmodel.add(Activation('relu'))                            \n",
        "seqmodel.add(Dropout(0.2))   \n",
        "\n",
        "seqmodel.add(Dense(512))              #Second hidden layer with 512 neurons\n",
        "seqmodel.add(Activation('relu'))\n",
        "seqmodel.add(Dropout(0.2))\n",
        "\n",
        "seqmodel.add(Dense(2, activation='softmax'))   #Output layer with 2 neurons for binary classification"
      ],
      "execution_count": 0,
      "outputs": []
    },
    {
      "metadata": {
        "id": "NmKN0RLzyl85",
        "colab_type": "code",
        "colab": {}
      },
      "cell_type": "code",
      "source": [
        "from keras import layers, models     #conversion to functional model\n",
        "\n",
        "input_layer = layers.Input(batch_shape=seqmodel.layers[0].input_shape)\n",
        "prev_layer = input_layer\n",
        "for layer in seqmodel.layers:\n",
        "    prev_layer = layer(prev_layer)\n",
        "\n",
        "funcmodel = models.Model([input_layer], [prev_layer])"
      ],
      "execution_count": 0,
      "outputs": []
    },
    {
      "metadata": {
        "id": "czTuuOwgysPQ",
        "colab_type": "code",
        "colab": {}
      },
      "cell_type": "code",
      "source": [
        "# compiling the sequential model\n",
        "funcmodel.compile(loss='categorical_crossentropy', metrics=['accuracy'], optimizer='adam') #Selecting parameters"
      ],
      "execution_count": 0,
      "outputs": []
    },
    {
      "metadata": {
        "id": "DzoqtXvAzJKC",
        "colab_type": "code",
        "outputId": "4a45ea2d-688c-4cb1-a32f-78c4b4643b16",
        "colab": {
          "base_uri": "https://localhost:8080/",
          "height": 122
        }
      },
      "cell_type": "code",
      "source": [
        "# training the model\n",
        "funcmodel.fit(X_train_reshaped, Y_train,\n",
        "          batch_size=128, epochs=5,\n",
        "          verbose=0)\n",
        "\n",
        "loss_and_metrics = model.evaluate(X_test_reshaped, Y_test, verbose=2)\n",
        "\n",
        "print(\"Test Loss\", loss_and_metrics[0])\n",
        "print(\"Test Accuracy\", loss_and_metrics[1])\n",
        "\n",
        "predicted= model.predict_classes(X_test_reshaped)\n",
        "#predicted = y_prob.argmax(axis=-1)"
      ],
      "execution_count": 0,
      "outputs": [
        {
          "output_type": "stream",
          "text": [
            "WARNING:tensorflow:From /usr/local/lib/python3.6/dist-packages/tensorflow/python/ops/math_ops.py:3066: to_int32 (from tensorflow.python.ops.math_ops) is deprecated and will be removed in a future version.\n",
            "Instructions for updating:\n",
            "Use tf.cast instead.\n",
            "Test Loss 0.6581305917739868\n",
            "Test Accuracy 0.6569\n"
          ],
          "name": "stdout"
        }
      ]
    },
    {
      "metadata": {
        "id": "ZWOyaK89zPUm",
        "colab_type": "code",
        "outputId": "375c657f-006a-4fe1-e702-66e72a7b1556",
        "colab": {
          "base_uri": "https://localhost:8080/",
          "height": 887
        }
      },
      "cell_type": "code",
      "source": [
        "from sklearn.metrics import confusion_matrix\n",
        "import itertools\n",
        "\n",
        "classes=2;\n",
        "class_names=['Zero','Non Zero'];\n",
        "def plot_confusion_matrix(cm, classes,\n",
        "                          normalize=False,\n",
        "                          title='Confusion matrix',\n",
        "                          cmap=plt.cm.Blues):\n",
        "    \"\"\"\n",
        "    This function prints and plots the confusion matrix.\n",
        "    Normalization can be applied by setting `normalize=True`.\n",
        "    \"\"\"\n",
        "    if normalize:\n",
        "        cm = cm.astype('float') / cm.sum(axis=1)[:, np.newaxis]\n",
        "        print(\"Normalized confusion matrix\")\n",
        "    else:\n",
        "        print('Confusion matrix, without normalization')\n",
        "\n",
        "    print(cm)\n",
        "\n",
        "    plt.imshow(cm, interpolation='nearest', cmap=cmap)\n",
        "    plt.title(title)\n",
        "    plt.colorbar()\n",
        "    tick_marks = np.arange(len(classes))\n",
        "    plt.xticks(tick_marks, classes, rotation=45)\n",
        "    plt.yticks(tick_marks, classes)\n",
        "\n",
        "    fmt = '.2f' if normalize else 'd'\n",
        "    thresh = cm.max() / 2.\n",
        "    for i, j in itertools.product(range(cm.shape[0]), range(cm.shape[1])):\n",
        "        plt.text(j, i, format(cm[i, j], fmt),\n",
        "                 horizontalalignment=\"center\",\n",
        "                 color=\"white\" if cm[i, j] > thresh else \"black\")\n",
        "\n",
        "    plt.ylabel('True label')\n",
        "    plt.xlabel('Predicted label')\n",
        "    plt.tight_layout()\n",
        "\n",
        "\n",
        "# Compute confusion matrix\n",
        "cnf_matrix = confusion_matrix(y_new_test, predicted)\n",
        "np.set_printoptions(precision=2)\n",
        "\n",
        "# Plot non-normalized confusion matrix\n",
        "plt.figure()\n",
        "plot_confusion_matrix(cnf_matrix, classes=class_names,\n",
        "                      title='Confusion matrix, without normalization')\n",
        "\n",
        "# Plot normalized confusion matrix\n",
        "plt.figure()\n",
        "plot_confusion_matrix(cnf_matrix, classes=class_names, normalize=True,\n",
        "                      title='Normalized confusion matrix')\n",
        "\n",
        "plt.show()\n"
      ],
      "execution_count": 0,
      "outputs": [
        {
          "output_type": "stream",
          "text": [
            "Confusion matrix, without normalization\n",
            "[[ 195  785]\n",
            " [2646 6374]]\n",
            "Normalized confusion matrix\n",
            "[[0.2  0.8 ]\n",
            " [0.29 0.71]]\n"
          ],
          "name": "stdout"
        },
        {
          "output_type": "display_data",
          "data": {
            "image/png": "[encoded data removed]",
            "text/plain": [
              "<Figure size 576x396 with 2 Axes>"
            ]
          },
          "metadata": {
            "tags": []
          }
        },
        {
          "output_type": "display_data",
          "data": {
            "image/png": "[encoded data removed]",
            "text/plain": [
              "<Figure size 576x396 with 2 Axes>"
            ]
          },
          "metadata": {
            "tags": []
          }
        }
      ]
    },
    {
      "metadata": {
        "id": "v_bNHo_Nz7XV",
        "colab_type": "code",
        "colab": {}
      },
      "cell_type": "code",
      "source": [
        ""
      ],
      "execution_count": 0,
      "outputs": []
    }
  ]
}